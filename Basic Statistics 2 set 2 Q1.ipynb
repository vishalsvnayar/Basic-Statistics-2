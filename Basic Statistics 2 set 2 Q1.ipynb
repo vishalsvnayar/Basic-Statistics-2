{
 "cells": [
  {
   "cell_type": "code",
   "execution_count": 4,
   "id": "b1de6b88",
   "metadata": {},
   "outputs": [],
   "source": [
    "from scipy import stats\n",
    "from scipy.stats import norm"
   ]
  },
  {
   "cell_type": "code",
   "execution_count": 6,
   "id": "02d831c8",
   "metadata": {},
   "outputs": [
    {
     "data": {
      "text/plain": [
       "0.625"
      ]
     },
     "execution_count": 6,
     "metadata": {},
     "output_type": "execute_result"
    }
   ],
   "source": [
    "# Find Z-Scores at X=60; Z = (X - µ) / σ \n",
    "Z=(60-55)/8\n",
    "Z"
   ]
  },
  {
   "cell_type": "code",
   "execution_count": 7,
   "id": "972b56e2",
   "metadata": {},
   "outputs": [
    {
     "data": {
      "text/plain": [
       "0.26598552904870054"
      ]
     },
     "execution_count": 7,
     "metadata": {},
     "output_type": "execute_result"
    }
   ],
   "source": [
    "# Find probability P(X>50) = 1-stats.norm.cdf(abs(z_score))\n",
    "1-stats.norm.cdf(abs(0.625))"
   ]
  }
 ],
 "metadata": {
  "kernelspec": {
   "display_name": "Python 3 (ipykernel)",
   "language": "python",
   "name": "python3"
  },
  "language_info": {
   "codemirror_mode": {
    "name": "ipython",
    "version": 3
   },
   "file_extension": ".py",
   "mimetype": "text/x-python",
   "name": "python",
   "nbconvert_exporter": "python",
   "pygments_lexer": "ipython3",
   "version": "3.9.7"
  }
 },
 "nbformat": 4,
 "nbformat_minor": 5
}
